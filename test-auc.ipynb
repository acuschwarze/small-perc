{
 "cells": [
  {
   "cell_type": "code",
   "execution_count": null,
   "id": "5d671fd9-b650-42f2-8e79-fbc4778f5c73",
   "metadata": {},
   "outputs": [],
   "source": []
  },
  {
   "cell_type": "code",
   "execution_count": 1,
   "id": "0281b64e-1db7-47f7-ae4d-ec8320e329e8",
   "metadata": {},
   "outputs": [],
   "source": [
    "import sys, pickle\n",
    "sys.path.insert(0, \"libs\")\n",
    "\n",
    "import os, pickle, csv # import packages for file I/O\n",
    "import time # package to help keep track of calculation time\n",
    "\n",
    "import numpy as np\n",
    "import networkx as nx\n",
    "import matplotlib.pyplot as plt\n",
    "import pandas as pd\n",
    "\n",
    "import scipy\n",
    "import scipy.stats as sst\n",
    "from scipy.special import comb\n",
    "from scipy.integrate import simpson\n",
    "from scipy.signal import argrelextrema\n",
    "from random import choice\n",
    "\n",
    "from libs.utils import *\n",
    "from libs.finiteTheory import *\n",
    "from visualizations import *\n",
    "from libs.utils import *\n",
    "from robustnessSimulations import *\n",
    "from performanceMeasures import *\n",
    "from infiniteTheory import *\n",
    "from finiteTheory import *\n",
    "\n",
    "fvals = pickle.load(open('data/fvalues.p', 'rb'))\n",
    "pvals = pickle.load(open('data/Pvalues.p', 'rb'))"
   ]
  },
  {
   "cell_type": "code",
   "execution_count": 8,
   "id": "8fd14bc8-6ffb-472f-9375-ecbe2f7fca6b",
   "metadata": {},
   "outputs": [],
   "source": [
    "trials = 100"
   ]
  },
  {
   "cell_type": "code",
   "execution_count": 14,
   "id": "be02e2cc-d498-4b38-9557-dd219361e971",
   "metadata": {},
   "outputs": [],
   "source": [
    "auc_sim = np.zeros(trials)\n",
    "for i_s in range(trials):\n",
    "    # rlcc_table[i_n][i_p][i_s] = np.zeros(n)\n",
    "    sim_data = completeRCData(numbers_of_nodes=[10],\n",
    "                              edge_probabilities=[0.1], num_trials=1,\n",
    "                              performance='relative LCC', graph_types=['ER'],\n",
    "                              remove_strategies=['random'])\n",
    "    rdata_array = np.array(sim_data[0][0][0][0])\n",
    "    rdata_array = rdata_array[1:]\n",
    "    for val in []:\n",
    "        rdata_array[rdata_array == val] = np.nan\n",
    "\n",
    "    line_data = np.nanmean(rdata_array, axis=0)\n",
    "    auc_sim[i_s] = scipy.integrate.simpson(line_data, dx=1/(10-1))\n",
    "\n",
    "\n",
    "mean = np.mean(auc_sim)\n",
    "std = np.std(auc_sim)"
   ]
  },
  {
   "cell_type": "code",
   "execution_count": 15,
   "id": "bf916a6e-4a11-408f-9c25-9e0219a2244f",
   "metadata": {},
   "outputs": [
    {
     "data": {
      "text/plain": [
       "np.float64(0.455556731334509)"
      ]
     },
     "execution_count": 15,
     "metadata": {},
     "output_type": "execute_result"
    }
   ],
   "source": [
    "mean"
   ]
  },
  {
   "cell_type": "code",
   "execution_count": 16,
   "id": "6519be5e-1c7b-436e-aed6-20117ac717d6",
   "metadata": {},
   "outputs": [
    {
     "data": {
      "text/plain": [
       "np.float64(0.12826229466095684)"
      ]
     },
     "execution_count": 16,
     "metadata": {},
     "output_type": "execute_result"
    }
   ],
   "source": [
    "std"
   ]
  },
  {
   "cell_type": "code",
   "execution_count": 12,
   "id": "43712403-1712-42a7-86fd-8a1607e8c912",
   "metadata": {},
   "outputs": [
    {
     "data": {
      "text/plain": [
       "[<matplotlib.lines.Line2D at 0x15c748a2510>]"
      ]
     },
     "execution_count": 12,
     "metadata": {},
     "output_type": "execute_result"
    },
    {
     "data": {
      "image/png": "[encoded data removed]",
      "text/plain": [
       "<Figure size 640x480 with 1 Axes>"
      ]
     },
     "metadata": {},
     "output_type": "display_data"
    }
   ],
   "source": [
    "plt.plot(auc_sim, lw=0, marker='+')"
   ]
  },
  {
   "cell_type": "code",
   "execution_count": 13,
   "id": "c359ce50-7f51-4ac0-b478-81cdbb4fbee2",
   "metadata": {},
   "outputs": [
    {
     "data": {
      "text/plain": [
       "(array([14., 25., 18., 14., 11., 10.,  3.,  0.,  1.,  4.]),\n",
       " array([0.25922986, 0.31610523, 0.3729806 , 0.42985597, 0.48673133,\n",
       "        0.5436067 , 0.60048207, 0.65735744, 0.7142328 , 0.77110817,\n",
       "        0.82798354]),\n",
       " <BarContainer object of 10 artists>)"
      ]
     },
     "execution_count": 13,
     "metadata": {},
     "output_type": "execute_result"
    },
    {
     "data": {
      "image/png": "[encoded data removed]",
      "text/plain": [
       "<Figure size 640x480 with 1 Axes>"
      ]
     },
     "metadata": {},
     "output_type": "display_data"
    }
   ],
   "source": [
    "plt.hist(auc_sim)"
   ]
  },
  {
   "cell_type": "code",
   "execution_count": 1,
   "id": "39106dd6-f1ef-4ef2-b6e5-5d9dbbc69ff0",
   "metadata": {},
   "outputs": [],
   "source": [
    "from libs.utils import *"
   ]
  },
  {
   "cell_type": "code",
   "execution_count": 2,
   "id": "a8a1046f-b920-48c4-b362-39789ed6d0a2",
   "metadata": {},
   "outputs": [
    {
     "data": {
      "text/plain": [
       "array([0.94097546, 0.93648507, 0.93159816, 0.92626916, 0.92044408,\n",
       "       0.91406185, 0.90705321, 0.89933317, 0.89080803, 0.88137484,\n",
       "       0.87091644, 0.8593144 , 0.84644387, 0.83218781, 0.81644085,\n",
       "       0.79912428, 0.78019382, 0.75964148, 0.73751977, 0.71392982,\n",
       "       0.68903202, 0.66303875, 0.63620857, 0.60883399, 0.58122887,\n",
       "       0.55371369, 0.52660182, 0.50018623, 0.47473123, 0.45046318,\n",
       "       0.42756899, 0.40619459, 0.38644961, 0.36840976, 0.35212988,\n",
       "       0.3376503 , 0.32501179, 0.31426342, 0.30546715, 0.29869348,\n",
       "       0.29400868, 0.29147721, 0.29121632, 0.29358271, 0.29962785,\n",
       "       0.31209085, 0.3376677 , 0.39326133, 0.53      , 1.        ])"
      ]
     },
     "execution_count": 2,
     "metadata": {},
     "output_type": "execute_result"
    }
   ],
   "source": [
    "relSCurve_precalculated(50, 0.05, targeted_removal=False, simulated=False, finite=True)"
   ]
  },
  {
   "cell_type": "code",
   "execution_count": null,
   "id": "23aa203d-ebd0-45ab-a33f-99ecd3fdd281",
   "metadata": {},
   "outputs": [],
   "source": []
  }
 ],
 "metadata": {
  "kernelspec": {
   "display_name": "Python 3 (ipykernel)",
   "language": "python",
   "name": "python3"
  },
  "language_info": {
   "codemirror_mode": {
    "name": "ipython",
    "version": 3
   },
   "file_extension": ".py",
   "mimetype": "text/x-python",
   "name": "python",
   "nbconvert_exporter": "python",
   "pygments_lexer": "ipython3",
   "version": "3.11.9"
  }
 },
 "nbformat": 4,
 "nbformat_minor": 5
}
