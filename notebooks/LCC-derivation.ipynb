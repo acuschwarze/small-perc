{
 "cells": [
  {
   "cell_type": "markdown",
   "id": "f74077d8-5700-40cf-891f-66f6854b7791",
   "metadata": {},
   "source": [
    "# The issue with multiple largest connected components\n",
    "\n",
    "We currently calculate the probability that a $G(n,p)$ graph has an LCC of size $i$ via\n",
    "\\begin{equation}\n",
    "    P(n,p,i) = \\binom{n}{i}f(i,p)g(n,p, i)\\left[c(n,p)P(n-i,p,i)+\\sum_{j=1}^{i-1}P(n-i,p,j)\\right]\\,,\n",
    "\\end{equation}\n",
    "where $c(n,p)$ is determined via the ``abc'' method. To try to get at the overcounting issue from another angle, I separate probabilities for different numbers of largest connected components. The probability of having **exactly 1** largest connected component of size $i$ is\n",
    "\\begin{equation}\n",
    "    P^{[1]}(n,p,i) = \\binom{n}{i}\\underbrace{f(i,p)g(n,p, i)}_{\\textrm{p that set of i nodes is LCC}}\\times\\underbrace{\\sum_{j=1}^{i-1}P(n-i,p,j)}_{\\textrm{p that LCC is remaining nodes is smaller}}\\,.\n",
    "\\end{equation}\n",
    "\n",
    "The probability of having **exactly 2** largest connected components of size $i$ is\n",
    "\\begin{equation}\n",
    "    P^{[2]}(n,p,i) = \\underbrace{\\frac{1}{2}}_{c}\\binom{n}{i}\\underbrace{f(i,p)g(n,p, i)}_{\\textrm{p that i nodes are LCC}}\\binom{n-i}{i}\\underbrace{f(i,p)g(n-i,p, i)}_{\\textrm{p that second set of i nodes is also LCC}}\\sum_{j=1}^{i-1}P(n-2i,p,j)\\,.\n",
    "\\end{equation}\n",
    "\n",
    "The probability of having **exactly 3** largest connected components of size $i$ is\n",
    "\\begin{equation}\n",
    "    P^{[2]}(n,p,i) = \\underbrace{\\frac{1}{3}}_{c}\\binom{n}{i}\\underbrace{f(i,p)g(n,p, i)}_{\\textrm{p that i nodes are LCC}}\\binom{n-i}{i}\\underbrace{f(i,p)g(n-i,p, i)}_{\\textrm{p that second set of i nodes is also LCC}}\\binom{n-3i}{i}\\underbrace{f(i,p)g(n-3i,p, i)}_{\\textrm{p that third set of i nodes is also LCC}}\\sum_{j=1}^{i-1}P(n-3i,p,j)\\,,\n",
    "\\end{equation}\n",
    "and so on.\n",
    "\n",
    "Since all of these events are mutually exclusive, we have the probability of **having at least one** LCC of size $i$ \n",
    "\\begin{equation}\n",
    "    P(n,p,i) = P^{[1]}(n,p,i)+P^{[2]}(n,p,i)+P^{[3]}(n,p,i)+\\dots+P^{[n//i]}(n,p,i)\n",
    "\\end{equation}"
   ]
  },
  {
   "cell_type": "code",
   "execution_count": null,
   "id": "a0c10997-de8b-4d2e-b0ca-b5e87c282a98",
   "metadata": {},
   "outputs": [],
   "source": []
  }
 ],
 "metadata": {
  "kernelspec": {
   "display_name": "Python 3 (ipykernel)",
   "language": "python",
   "name": "python3"
  },
  "language_info": {
   "codemirror_mode": {
    "name": "ipython",
    "version": 3
   },
   "file_extension": ".py",
   "mimetype": "text/x-python",
   "name": "python",
   "nbconvert_exporter": "python",
   "pygments_lexer": "ipython3",
   "version": "3.11.9"
  }
 },
 "nbformat": 4,
 "nbformat_minor": 5
}
