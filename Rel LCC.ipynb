{
 "cells": [
  {
   "cell_type": "code",
   "execution_count": 9,
   "id": "07008b54",
   "metadata": {},
   "outputs": [],
   "source": [
    "#import packages\n",
    "import numpy as np\n",
    "import scipy\n",
    "from scipy.special import comb \n",
    "import scipy.stats as sst\n",
    "import networkx as nx\n",
    "from random import choice\n",
    "import matplotlib.pyplot as plt"
   ]
  },
  {
   "cell_type": "code",
   "execution_count": 10,
   "id": "6dc582c0",
   "metadata": {},
   "outputs": [],
   "source": [
    "def f(p,i,n):\n",
    "  if i == 0:\n",
    "    p_connect = 0\n",
    "  if i == 1:\n",
    "    p_connect = 1\n",
    "  else:\n",
    "    sum_f = 0\n",
    "    for i_n in range(1,i,1):\n",
    "      sum_f += f(p,i_n,n)*scipy.special.comb(i-1,i_n-1)*(1-p)**((i_n)*(i-i_n))\n",
    "    p_connect = 1-sum_f\n",
    "  return p_connect"
   ]
  },
  {
   "cell_type": "code",
   "execution_count": 11,
   "id": "db8ca0b0",
   "metadata": {},
   "outputs": [],
   "source": [
    "def g(p,i,n):\n",
    "  return (1-p)**(i*(n-i))"
   ]
  },
  {
   "cell_type": "code",
   "execution_count": 12,
   "id": "ad412a5e",
   "metadata": {},
   "outputs": [],
   "source": [
    "#calculate P function with input = Pdict (use the pickle.load(open(args.ffile+'.p',\"rb\")))\n",
    "# ffile = name of downloaded p values file\n",
    "def P(p,i,n):\n",
    "  #print(\"execute P\", p, i, n)\n",
    "  if i==0 and n==0:\n",
    "    P_tot = 1\n",
    "  elif i>0 and n==0:\n",
    "    P_tot = 0\n",
    "  elif i > n or n < 0 or i<=0:\n",
    "    P_tot = 0\n",
    "  elif i == 1 and n == 1:\n",
    "    P_tot = 1\n",
    "  elif i == 1 and n != 1:\n",
    "    P_tot = (1-p)**scipy.special.comb(n,2)\n",
    "  else:\n",
    "    sum_P = 0\n",
    "    for j in range(0,i+1,1): # shouldn't it be i+1?\n",
    "      sum_P += P(p,j,n-i)\n",
    "    P_tot = scipy.special.comb(n,i)*f(p,i,n)*g(p,i,n)*sum_P\n",
    "  return P_tot"
   ]
  },
  {
   "cell_type": "code",
   "execution_count": 13,
   "id": "5952c8c9",
   "metadata": {},
   "outputs": [],
   "source": [
    "def S(p,n):\n",
    "  sum = 0\n",
    "  for k in range(1,n+1):\n",
    "    sum += P(p,k,n)*k\n",
    "  return sum"
   ]
  },
  {
   "cell_type": "code",
   "execution_count": 14,
   "id": "1250059b",
   "metadata": {},
   "outputs": [],
   "source": [
    "def S_calc_data(p=.1,n=[20,50,100]):\n",
    "  x_array = np.zeros(len(n))\n",
    "  y_array = np.zeros(len(n))\n",
    "  for a in range(len(n)):\n",
    "    x_array[a] = n[a]\n",
    "  for b in range(len(n)):\n",
    "    y_array[b] = S(p,n[b])\n",
    "  return x_array, y_array"
   ]
  },
  {
   "cell_type": "code",
   "execution_count": 15,
   "id": "3a3d7523",
   "metadata": {},
   "outputs": [],
   "source": [
    "def simulated_rlcc(p,n): #n = #nodes, m = #edges\n",
    "  g = nx.erdos_renyi_graph(n, p, seed=None, directed=False) \n",
    "  if(g.number_of_nodes() == 0):\n",
    "    return 0\n",
    "  else:\n",
    "    nodes_in_cluster = len(max(nx.connected_components(g), key=len))\n",
    "    return nodes_in_cluster\n",
    "  #   / g.number_of_nodes()"
   ]
  },
  {
   "cell_type": "code",
   "execution_count": 16,
   "id": "95c002c2",
   "metadata": {},
   "outputs": [],
   "source": [
    "def S_simulation_data_1(p=.1,n=[20,50,100]):\n",
    "  x_array = np.zeros(len(n))\n",
    "  y_array = np.zeros(len(n))\n",
    "  for a in range(len(n)):\n",
    "    x_array[a] = n[a]\n",
    "  for b in range(len(n)):\n",
    "    y_array[b] = simulated_rlcc(p,n[b])\n",
    "  return x_array, y_array"
   ]
  },
  {
   "cell_type": "code",
   "execution_count": 17,
   "id": "75562556",
   "metadata": {},
   "outputs": [],
   "source": [
    "def S_simulation_data(p=.1,n=[20,50,100],ntrials=100):\n",
    "  tot_x = np.zeros(len(n))\n",
    "  tot_y = np.zeros(len(n))\n",
    "  for i in range(ntrials):\n",
    "    x_array = np.zeros(len(n))\n",
    "    y_array = np.zeros(len(n))\n",
    "    for a in range(len(n)):\n",
    "      x_array[a] = n[a]\n",
    "    for b in range(len(n)):\n",
    "      y_array[b] = simulated_rlcc(p,n[b])\n",
    "    tot_x = tot_x + x_array\n",
    "    tot_y = tot_y + y_array\n",
    "  tot_x = tot_x/ntrials\n",
    "  tot_y = tot_y/ntrials\n",
    "  return tot_x, tot_y"
   ]
  },
  {
   "cell_type": "code",
   "execution_count": 18,
   "id": "25bdeb4a",
   "metadata": {},
   "outputs": [],
   "source": [
    "def my_lambertw(x, k=0):\n",
    "  if x+1/np.exp(1)<1E-20:\n",
    "    return -1.0\n",
    "  else:\n",
    "    return scipy.special.lambertw(x, k=k)\n",
    "\n",
    "\n",
    "def perf_sim2copy(p=.1,n=[20,50,100], smoothing = False):\n",
    "  print(n)\n",
    "  y_array = np.zeros(len(n))\n",
    "  x_array = np.zeros(len(n))\n",
    "\n",
    "  for i in range(len(n)):\n",
    "    c = 2 * p * scipy.special.comb(n[i], 2) / n[i]\n",
    "    #percolation_threshold2 = 1/n + (n-1)/(c_init*n)]\n",
    "    x_array[i] = n[i]\n",
    "\n",
    "    if smoothing == True:\n",
    "      y_array[i] = 1 + my_lambertw(-c*np.exp(-c))/c + 1/n\n",
    "    else:\n",
    "      y_array[i] = (1 + my_lambertw(-c*np.exp(-c))/c) * n[i]\n",
    "\n",
    "  return x_array, y_array"
   ]
  },
  {
   "cell_type": "code",
   "execution_count": 19,
   "id": "ae9230ef",
   "metadata": {},
   "outputs": [],
   "source": [
    "def plot_S(p=.1,n=[20,50,100],ntrials=100):\n",
    "  simulated = S_simulation_data(p,n,ntrials)\n",
    "  calculated = S_calc_data(p,n)\n",
    "  lambert = perf_sim2copy(p,n,smoothing=False)\n",
    "  plt.plot(simulated[0],simulated[1], label = \"simulated\")\n",
    "  plt.plot(calculated[0], calculated[1], label = \"calculated\")\n",
    "  plt.plot(lambert[0], lambert[1], label = \"lambert\")\n",
    "  plt.legend()"
   ]
  },
  {
   "cell_type": "code",
   "execution_count": 20,
   "id": "a024e3b8",
   "metadata": {},
   "outputs": [
    {
     "name": "stdout",
     "output_type": "stream",
     "text": [
      "[5, 6, 7, 8, 9, 10, 11, 12, 13, 14, 15]\n"
     ]
    },
    {
     "name": "stderr",
     "output_type": "stream",
     "text": [
      "C:\\Users\\jj\\AppData\\Local\\Temp\\ipykernel_9892\\2178723426.py:21: ComplexWarning: Casting complex values to real discards the imaginary part\n",
      "  y_array[i] = (1 + my_lambertw(-c*np.exp(-c))/c) * n[i]\n"
     ]
    },
    {
     "data": {
      "image/png": "[encoded data removed]",
      "text/plain": [
       "<Figure size 640x480 with 1 Axes>"
      ]
     },
     "metadata": {},
     "output_type": "display_data"
    }
   ],
   "source": [
    "plot_S(p=.1,n=[5,6,7,8,9,10,11,12,13,14,15])"
   ]
  },
  {
   "cell_type": "code",
   "execution_count": null,
   "id": "e33bc7fa",
   "metadata": {},
   "outputs": [],
   "source": []
  }
 ],
 "metadata": {
  "kernelspec": {
   "display_name": "Python 3 (ipykernel)",
   "language": "python",
   "name": "python3"
  },
  "language_info": {
   "codemirror_mode": {
    "name": "ipython",
    "version": 3
   },
   "file_extension": ".py",
   "mimetype": "text/x-python",
   "name": "python",
   "nbconvert_exporter": "python",
   "pygments_lexer": "ipython3",
   "version": "3.9.13"
  }
 },
 "nbformat": 4,
 "nbformat_minor": 5
}
