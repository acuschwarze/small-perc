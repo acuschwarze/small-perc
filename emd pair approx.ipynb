{
 "cells": [
  {
   "cell_type": "code",
   "execution_count": null,
   "id": "86e3418f-c00a-4bb6-ad02-54d21fdcc2a0",
   "metadata": {},
   "outputs": [
    {
     "ename": "",
     "evalue": "",
     "output_type": "error",
     "traceback": [
      "\u001b[1;31mRunning cells with '.venv (Python 3.10.0)' requires the ipykernel package.\n",
      "\u001b[1;31mRun the following command to install 'ipykernel' into the Python environment. \n",
      "\u001b[1;31mCommand: 'c:/Users/jj/Downloads/GitHub/small-perc/.venv/Scripts/python.exe -m pip install ipykernel -U --force-reinstall'"
     ]
    }
   ],
   "source": [
    "import pickle\n",
    "import pandas as pd\n",
    "import numpy as np\n",
    "from matplotlib import pyplot as plt"
   ]
  },
  {
   "cell_type": "code",
   "execution_count": null,
   "id": "496000c7-df51-43fa-bfff-bb6d81a97831",
   "metadata": {},
   "outputs": [
    {
     "ename": "",
     "evalue": "",
     "output_type": "error",
     "traceback": [
      "\u001b[1;31mRunning cells with '.venv (Python 3.10.0)' requires the ipykernel package.\n",
      "\u001b[1;31mRun the following command to install 'ipykernel' into the Python environment. \n",
      "\u001b[1;31mCommand: 'c:/Users/jj/Downloads/GitHub/small-perc/.venv/Scripts/python.exe -m pip install ipykernel -U --force-reinstall'"
     ]
    }
   ],
   "source": [
    "data = pd.read_pickle(\"bayesian array\")\n",
    "nodes = pd.read_pickle(\"bayesian nodes\")"
   ]
  },
  {
   "cell_type": "code",
   "execution_count": null,
   "id": "5225f4fd-beb4-4d6d-96dc-c34dc6c984b4",
   "metadata": {},
   "outputs": [
    {
     "ename": "",
     "evalue": "",
     "output_type": "error",
     "traceback": [
      "\u001b[1;31mRunning cells with '.venv (Python 3.10.0)' requires the ipykernel package.\n",
      "\u001b[1;31mRun the following command to install 'ipykernel' into the Python environment. \n",
      "\u001b[1;31mCommand: 'c:/Users/jj/Downloads/GitHub/small-perc/.venv/Scripts/python.exe -m pip install ipykernel -U --force-reinstall'"
     ]
    }
   ],
   "source": [
    "for i in range(1617):\n",
    "    if data[0][i]==0:\n",
    "        print('found true zero')"
   ]
  },
  {
   "cell_type": "code",
   "execution_count": null,
   "id": "7b87b25a-a840-4a08-a2f5-9e161c413df1",
   "metadata": {},
   "outputs": [
    {
     "ename": "",
     "evalue": "",
     "output_type": "error",
     "traceback": [
      "\u001b[1;31mRunning cells with '.venv (Python 3.10.0)' requires the ipykernel package.\n",
      "\u001b[1;31mRun the following command to install 'ipykernel' into the Python environment. \n",
      "\u001b[1;31mCommand: 'c:/Users/jj/Downloads/GitHub/small-perc/.venv/Scripts/python.exe -m pip install ipykernel -U --force-reinstall'"
     ]
    }
   ],
   "source": [
    "len(data[0])"
   ]
  },
  {
   "cell_type": "code",
   "execution_count": null,
   "id": "5227b261-9d7d-4c62-951b-0511f78f9f44",
   "metadata": {},
   "outputs": [
    {
     "ename": "",
     "evalue": "",
     "output_type": "error",
     "traceback": [
      "\u001b[1;31mRunning cells with '.venv (Python 3.10.0)' requires the ipykernel package.\n",
      "\u001b[1;31mRun the following command to install 'ipykernel' into the Python environment. \n",
      "\u001b[1;31mCommand: 'c:/Users/jj/Downloads/GitHub/small-perc/.venv/Scripts/python.exe -m pip install ipykernel -U --force-reinstall'"
     ]
    }
   ],
   "source": [
    "def r_pow(x, n, d):\n",
    "    \"\"\"\n",
    "    Compute x to the power of n/d (not reduced to lowest\n",
    "    expression) with the correct function real domains.\n",
    "    \n",
    "    ARGS:\n",
    "        x (int,float,array): base\n",
    "        n (int)            : exponent numerator\n",
    "        d (int)            : exponent denominator\n",
    "        \n",
    "    RETURNS:\n",
    "        x to the power of n/d\n",
    "    \"\"\"\n",
    "    \n",
    "    # list to array\n",
    "    if type(x) == list:\n",
    "        x = np.array(x)\n",
    "    # check inputs\n",
    "    if type(n) != int or type(d) != int:\n",
    "        raise Exception(\"Exponent numerator and denominator must be integers\")\n",
    "    # if denominator is zero\n",
    "    if not d:\n",
    "        raise Exception(\"Exponent denominator cannot be 0\")\n",
    "        \n",
    "    # raise x to power of n\n",
    "    X = x**n\n",
    "    # even denominator\n",
    "    if not d % 2:\n",
    "        # domain is for X>=0 only\n",
    "        if type(x) == np.ndarray:\n",
    "            X[X<0] = np.nan\n",
    "        elif X < 0:\n",
    "            X = np.nan\n",
    "        res = np.power(X, 1./d)\n",
    "        return res\n",
    "    # odd denominator\n",
    "    else:\n",
    "        # domain is all R\n",
    "        res = np.power(np.abs(X), 1./d)\n",
    "        res *= np.sign(X)\n",
    "        return res"
   ]
  },
  {
   "cell_type": "code",
   "execution_count": null,
   "id": "91782f18-51a0-47ce-8d26-535be48b355b",
   "metadata": {},
   "outputs": [
    {
     "ename": "",
     "evalue": "",
     "output_type": "error",
     "traceback": [
      "\u001b[1;31mRunning cells with '.venv (Python 3.10.0)' requires the ipykernel package.\n",
      "\u001b[1;31mRun the following command to install 'ipykernel' into the Python environment. \n",
      "\u001b[1;31mCommand: 'c:/Users/jj/Downloads/GitHub/small-perc/.venv/Scripts/python.exe -m pip install ipykernel -U --force-reinstall'"
     ]
    }
   ],
   "source": [
    "roots = [r_pow(data[0][i], 1, nodes[0][i]) for i in range(1617)] "
   ]
  },
  {
   "cell_type": "code",
   "execution_count": null,
   "id": "41fb75da-7e9c-49b6-8995-2a22ee8ee3dc",
   "metadata": {},
   "outputs": [
    {
     "ename": "",
     "evalue": "",
     "output_type": "error",
     "traceback": [
      "\u001b[1;31mRunning cells with '.venv (Python 3.10.0)' requires the ipykernel package.\n",
      "\u001b[1;31mRun the following command to install 'ipykernel' into the Python environment. \n",
      "\u001b[1;31mCommand: 'c:/Users/jj/Downloads/GitHub/small-perc/.venv/Scripts/python.exe -m pip install ipykernel -U --force-reinstall'"
     ]
    }
   ],
   "source": [
    "plt.loglog(nodes[0], data[0], lw=0, marker='x')\n",
    "plt.ylim([0,0.5])"
   ]
  },
  {
   "cell_type": "code",
   "execution_count": null,
   "id": "1ca16887-ce17-4e33-9d03-d47e02b9e576",
   "metadata": {},
   "outputs": [
    {
     "ename": "",
     "evalue": "",
     "output_type": "error",
     "traceback": [
      "\u001b[1;31mRunning cells with '.venv (Python 3.10.0)' requires the ipykernel package.\n",
      "\u001b[1;31mRun the following command to install 'ipykernel' into the Python environment. \n",
      "\u001b[1;31mCommand: 'c:/Users/jj/Downloads/GitHub/small-perc/.venv/Scripts/python.exe -m pip install ipykernel -U --force-reinstall'"
     ]
    }
   ],
   "source": [
    "plt.plot(nodes[0], roots, lw=0, marker='x')\n",
    "top20 = np.array([[nodes[0][i], roots[i]] for i in range(1617) if roots[i]>=np.percentile(roots,80)]).T\n",
    "plt.plot(top20[0], top20[1], lw=0, marker='x')\n",
    "bottom20 = np.array([[nodes[0][i], roots[i]] for i in range(1617) if roots[i]<np.percentile(roots,20)]).T\n",
    "plt.plot(bottom20[0], bottom20[1], lw=0, marker='x')\n"
   ]
  },
  {
   "cell_type": "code",
   "execution_count": null,
   "id": "8fd15ec9-9eac-4b07-a7b1-523a1634fd8a",
   "metadata": {},
   "outputs": [
    {
     "ename": "",
     "evalue": "",
     "output_type": "error",
     "traceback": [
      "\u001b[1;31mRunning cells with '.venv (Python 3.10.0)' requires the ipykernel package.\n",
      "\u001b[1;31mRun the following command to install 'ipykernel' into the Python environment. \n",
      "\u001b[1;31mCommand: 'c:/Users/jj/Downloads/GitHub/small-perc/.venv/Scripts/python.exe -m pip install ipykernel -U --force-reinstall'"
     ]
    }
   ],
   "source": []
  },
  {
   "cell_type": "code",
   "execution_count": null,
   "id": "03bb479e-1d64-49fe-8d95-86673a6151f7",
   "metadata": {},
   "outputs": [
    {
     "ename": "",
     "evalue": "",
     "output_type": "error",
     "traceback": [
      "\u001b[1;31mRunning cells with '.venv (Python 3.10.0)' requires the ipykernel package.\n",
      "\u001b[1;31mRun the following command to install 'ipykernel' into the Python environment. \n",
      "\u001b[1;31mCommand: 'c:/Users/jj/Downloads/GitHub/small-perc/.venv/Scripts/python.exe -m pip install ipykernel -U --force-reinstall'"
     ]
    }
   ],
   "source": [
    "bottom20_i = np.array([i for i in range(1617) if roots[i]<np.percentile(roots,20)]).T\n",
    "top20_i = np.array([i for i in range(1617) if roots[i]>=np.percentile(roots,80)]).T\n",
    "\n",
    "print(bottom20_i)\n",
    "print(top20_i)"
   ]
  },
  {
   "cell_type": "code",
   "execution_count": null,
   "id": "1de19f81",
   "metadata": {},
   "outputs": [],
   "source": [
    "nwks_list2 = pd.read_csv(\"nwks_list2\")\n",
    "print(nwks_list2.iloc[0])\n",
    "cwd = os.getcwd() \n",
    "print(\"Current working directory:\", cwd) \n",
    "\n",
    "\n",
    "def mega_file_reader2(removal = \"random\", adj_list = [\"taro.txt\"]):\n",
    "    #, file_path = \"C:\\\\Users\\\\jj\\Downloads\\\\GitHub\\small-perc\\\\pholme_networks\" )\n",
    "    if removal == \"random\":\n",
    "        remove_bool = False\n",
    "    elif removal == \"attack\":\n",
    "        remove_bool = True\n",
    "        \n",
    "    for file_name in adj_list:\n",
    "\n",
    "        file = open(file_name, \"r\")\n",
    "        #file = open(os.path.join(file_path,file_name), \"r\")\n",
    "        content=file.readlines()\n",
    "\n",
    "        if len(content) == 0:\n",
    "            file.close()\n",
    "        # identify type of file (biadjacency matrix, edge list)\n",
    "            # edge list\n",
    "        elif len(content[0]) == 4 and (len(content) == 1 or len(content) > 2):\n",
    "            print('edge file')\n",
    "            if nodecount_edge(file_name) > 100:\n",
    "                file.close()\n",
    "            else:\n",
    "                node_list = []\n",
    "                edge_list = np.empty(len(content), dtype=object)\n",
    "                for i in range(len(content)):\n",
    "                    edge = content[i].strip()\n",
    "                    edge = edge.split(\" \")\n",
    "                    edge_list[i] = np.zeros(2)\n",
    "                    edge_list[i][0] = int(edge[0])\n",
    "                    edge_list[i][1] = int(edge[1])\n",
    "                    for j in range(2):\n",
    "                        node_list.append(int(edge[j]))\n",
    "                n = max(node_list) + 1\n",
    "                adj = np.zeros((n, n))\n",
    "\n",
    "                for k in range(len(edge_list)):\n",
    "                    adj[int(edge_list[k][0]), int(edge_list[k][1])] = 1\n",
    "                    adj[int(edge_list[k][1]), int(edge_list[k][0])] = 1\n",
    "\n",
    "            #biadjacency matrix\n",
    "        elif len(content[0]) > 4 or (len(content[0]) == 4 and len(content) == 2):\n",
    "            print(\"biadj file\")\n",
    "            if nodecount_bi(file_name) > 100:\n",
    "                file.close()\n",
    "            else:\n",
    "                edge_list = np.empty(len(content), dtype=object)\n",
    "                # edge1 = content[0].strip()\n",
    "                # edge1 = edge1.split(\"\\t\")\n",
    "                k = len(content[0].strip().split(\"\\t\"))\n",
    "                n = len(content) + k\n",
    "                adj = np.zeros((len(content), k))\n",
    "                big_adj = np.zeros((n, n))\n",
    "\n",
    "                for i in range(len(content)):\n",
    "                    edge = content[i].strip()\n",
    "                    edge = edge.split(\"\\t\")\n",
    "                    print(\"edge\")\n",
    "                    print(edge)\n",
    "\n",
    "                    for j in range(len(edge)):\n",
    "                        e = int(float(edge[j]))\n",
    "                        if e >= 1:\n",
    "                            adj[i, j] = 1\n",
    "                            big_adj[i, j + len(content)] = 1\n",
    "                            big_adj[j + len(content), i] = 1\n",
    "                        else:\n",
    "                            adj[i, j] = 0\n",
    "                G_0 = nx.from_numpy_array(big_adj)\n",
    "                # G_0 = nx.algorithms.bipartite.matrix.from_biadjacency_matrix(adj, create_using=None)\n",
    "                G = G_0.copy()\n",
    "                nx.draw(G)\n",
    "\n",
    "                p = len(edge_list) / scipy.special.comb(n, 2)\n",
    "\n",
    "                fig = plot_graphs(numbers_of_nodes=[n], edge_probabilities=[p],\n",
    "                                  graph_types=['ER'], remove_strategies=[\"random\"],\n",
    "                                  performance='relative LCC', num_trials=100,\n",
    "                                  smooth_end=False, forbidden_values=[], fdict=fvals, lcc_method_main=\"alice\",\n",
    "                                  savefig='')\n",
    "                fig.savefig(file_name[:-4] + \".png\")\n",
    "\n",
    "                x_array = np.arange(0, n) / n\n",
    "                averaged_data = np.zeros(n)\n",
    "                for j_2 in range(100):\n",
    "                    G = G_0.copy()\n",
    "                    # print(list(G.nodes()), \"nodes\")\n",
    "                    data_array = np.zeros(n, dtype=float)\n",
    "                    for i_2 in range(n):\n",
    "                        print(G.number_of_nodes(), \"g size before\")\n",
    "                        data_array[i_2] = len(max(nx.connected_components(G), key=len)) / (n - i_2)\n",
    "                        # find a node to remove\n",
    "                        if removal == \"random\":\n",
    "                            if G.number_of_nodes() != 0:\n",
    "                                v = choice(list(G.nodes()))\n",
    "                                G.remove_node(v)\n",
    "                                # print(v)\n",
    "                        elif removal == \"attack\":\n",
    "                            if G.number_of_nodes() != 0:\n",
    "                                v = sorted(G.degree, key=lambda x: x[1], reverse=True)[0][0]\n",
    "                                G.remove_node(v)\n",
    "                    averaged_data += data_array\n",
    "                #print(x_array, \"xarray\")\n",
    "                averaged_data /= 100\n",
    "                #print(averaged_data, \"y\")\n",
    "\n",
    "                fin = finiteTheory.relSCurve(p,n,attack=remove_bool, fdict=fvals,pdict=pvals,lcc_method_relS=\"pmult\",\n",
    "                                       executable_path = \"C:\\\\Users\\\\jj\\\\Downloads\\\\GitHub\\\\small-perc\\\\p-recursion.exe\")\n",
    "                \n",
    "                file.close()\n",
    "\n",
    "    return (averaged_data, fin)\n",
    "\n",
    "y_array_b = np.zeros(len(bottom20_i))\n",
    "y_array_t = np.zeros(len(top20_i))\n",
    "\n",
    "import os\n",
    "\n",
    "mega_file_reader2(removal = \"random\", adj_list = [\"C:\\\\Users\\\\jj\\Downloads\\\\GitHub\\small-perc\\\\pholme_networks\\taro.txt\"])\n",
    "\n",
    "for i_b in bottom20_i:\n",
    "    #print(\"file1\",nwks_list2.iloc[i_b][1])\n",
    "    file = nwks_list2.iloc[i_b][1]\n",
    "    #file2 = file2.replace(\"C:\\\\Users\\\\jj\\Downloads\\\\GitHub\\small-perc\\\\pholme_networks\", '')\n",
    "    #print(\"file2\",file)\n",
    "    #file = file[60:]\n",
    "    #print(\"file3\",file2)\n",
    "    values = mega_file_reader2(removal = \"random\", adj_list = [file])\n",
    "    y = ((values[0]- values[1]) ** 2).mean()\n",
    "    y_array_b[i_b] = y\n",
    "\n",
    "for i_t in top20_i:\n",
    "    values = mega_file_reader2(removal = \"random\", adj_list = [nwks_list2.iloc[i_t]])\n",
    "    y = ((values[0]- values[1]) ** 2).mean()\n",
    "    y_array_t[i_t] = y\n",
    "\n",
    "plt.plot(top20[0],y_array_t, marker = \"x\", color = \"red\")\n",
    "plt.plot(bottom20[0],y_array_b, marker = \"x\", color = \"green\")"
   ]
  }
 ],
 "metadata": {
  "kernelspec": {
   "display_name": "Python 3 (ipykernel)",
   "language": "python",
   "name": "python3"
  },
  "language_info": {
   "codemirror_mode": {
    "name": "ipython",
    "version": 3
   },
   "file_extension": ".py",
   "mimetype": "text/x-python",
   "name": "python",
   "nbconvert_exporter": "python",
   "pygments_lexer": "ipython3",
   "version": "3.10.0"
  }
 },
 "nbformat": 4,
 "nbformat_minor": 5
}
