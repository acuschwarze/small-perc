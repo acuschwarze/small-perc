{
 "cells": [
  {
   "cell_type": "code",
   "execution_count": 1,
   "id": "eadaf186-7f2d-4616-8263-57f9c693204f",
   "metadata": {},
   "outputs": [],
   "source": [
    "import sys, pickle\n",
    "sys.path.insert(0, \"libs\")\n",
    "\n",
    "import os, pickle, csv # import packages for file I/O\n",
    "import time # package to help keep track of calculation time\n",
    "\n",
    "import numpy as np\n",
    "import networkx as nx\n",
    "import matplotlib.pyplot as plt\n",
    "import pandas as pd\n",
    "\n",
    "import scipy\n",
    "import scipy.stats as sst\n",
    "from scipy.special import comb\n",
    "from scipy.integrate import simpson\n",
    "from scipy.signal import argrelextrema\n",
    "from random import choice\n",
    "\n",
    "from libs.utils import *\n",
    "from libs.finiteTheory import *\n",
    "from visualizations import *\n",
    "from libs.utils import *\n",
    "from robustnessSimulations import *\n",
    "from performanceMeasures import *\n",
    "from infiniteTheory import *\n",
    "from finiteTheory import *"
   ]
  },
  {
   "cell_type": "code",
   "execution_count": 7,
   "id": "79dcbcf0-da1f-4730-92be-a1f955c01541",
   "metadata": {},
   "outputs": [
    {
     "name": "stdout",
     "output_type": "stream",
     "text": [
      "0.08197 1 60 EEO output 1.80579e-66\n",
      "0.08197 2 60 EEO output -7.44528e-33\n",
      "0.08197 3 60 EEO output -8.0672e-34\n",
      "0.08197 4 60 EEO output -1.8529e-33\n",
      "0.08197 5 60 EEO output 2.03879e-33\n",
      "0.08197 6 60 EEO output 3.40316e-31\n",
      "0.08197 7 60 EEO output 1.00189e-29\n",
      "0.08197 8 60 EEO output 1.44804e-28\n",
      "0.08197 9 60 EEO output 1.28657e-27\n",
      "0.08197 10 60 EEO output 8.08155e-27\n",
      "0.08197 11 60 EEO output 3.93738e-26\n",
      "0.08197 12 60 EEO output 1.58502e-25\n",
      "0.08197 13 60 EEO output 5.51491e-25\n",
      "0.08197 14 60 EEO output 1.72721e-24\n",
      "0.08197 15 60 EEO output 4.91083e-24\n",
      "0.08197 16 60 EEO output 1.28778e-23\n",
      "0.08197 17 60 EEO output 3.29512e-23\n",
      "0.08197 18 60 EEO output 8.44863e-23\n",
      "0.08197 19 60 EEO output 2.07732e-22\n",
      "0.08197 20 60 EEO output 4.54169e-22\n",
      "0.08197 21 60 EEO output 9.05645e-22\n",
      "0.08197 22 60 EEO output 1.83793e-21\n",
      "0.08197 23 60 EEO output 4.06495e-21\n",
      "0.08197 24 60 EEO output 1.01071e-20\n",
      "0.08197 25 60 EEO output 2.82784e-20\n",
      "0.08197 26 60 EEO output 8.62953e-20\n",
      "0.08197 27 60 EEO output 2.69376e-19\n",
      "0.08197 28 60 EEO output 7.78938e-19\n",
      "0.08197 29 60 EEO output 1.81692e-18\n",
      "0.08197 30 60 EEO output 2.96696e-18\n",
      "0.08197 31 60 EEO output 3.76198e-18\n",
      "0.08197 32 60 EEO output 5.07994e-18\n",
      "0.08197 33 60 EEO output 7.56911e-18\n",
      "0.08197 34 60 EEO output 1.24425e-17\n",
      "0.08197 35 60 EEO output 2.25585e-17\n",
      "0.08197 36 60 EEO output 4.50882e-17\n",
      "0.08197 37 60 EEO output 9.92875e-17\n",
      "0.08197 38 60 EEO output 2.40693e-16\n",
      "0.08197 39 60 EEO output 6.41716e-16\n",
      "0.08197 40 60 EEO output 1.87938e-15\n",
      "0.08197 41 60 EEO output 6.03752e-15\n",
      "0.08197 42 60 EEO output 2.12392e-14\n",
      "0.08197 43 60 EEO output 8.16559e-14\n",
      "0.08197 44 60 EEO output 3.42285e-13\n",
      "0.08197 45 60 EEO output 1.56008e-12\n",
      "0.08197 46 60 EEO output 7.70668e-12\n",
      "0.08197 47 60 EEO output 4.11056e-11\n",
      "0.08197 48 60 EEO output 2.35671e-10\n",
      "0.08197 49 60 EEO output 1.44469e-09\n",
      "0.08197 50 60 EEO output 9.4088e-09\n",
      "0.08197 51 60 EEO output 6.45997e-08\n",
      "0.08197 52 60 EEO output 4.63166e-07\n",
      "0.08197 53 60 EEO output 3.42678e-06\n",
      "0.08197 54 60 EEO output 2.57668e-05\n",
      "0.08197 55 60 EEO output 0.000192981\n",
      "0.08197 56 60 EEO output 0.0014003\n",
      "0.08197 57 60 EEO output 0.00945465\n",
      "0.08197 58 60 EEO output 0.0557118\n",
      "0.08197 59 60 EEO output 0.254775\n",
      "0.08197 60 60 EEO output 0.678436\n"
     ]
    }
   ],
   "source": [
    "S = calculate_S(.08197, 60, lcc_method='pmult')"
   ]
  },
  {
   "cell_type": "code",
   "execution_count": 6,
   "id": "eec5590b-7d80-4166-adae-d08f5d39cdee",
   "metadata": {},
   "outputs": [
    {
     "data": {
      "text/plain": [
       "-10.438432796636139"
      ]
     },
     "execution_count": 6,
     "metadata": {},
     "output_type": "execute_result"
    }
   ],
   "source": [
    "S"
   ]
  },
  {
   "cell_type": "code",
   "execution_count": null,
   "id": "0074fe3e-0d40-4b47-b155-be6a6cc379ea",
   "metadata": {},
   "outputs": [],
   "source": []
  }
 ],
 "metadata": {
  "kernelspec": {
   "display_name": "Python 3 (ipykernel)",
   "language": "python",
   "name": "python3"
  },
  "language_info": {
   "codemirror_mode": {
    "name": "ipython",
    "version": 3
   },
   "file_extension": ".py",
   "mimetype": "text/x-python",
   "name": "python",
   "nbconvert_exporter": "python",
   "pygments_lexer": "ipython3",
   "version": "3.8.5"
  }
 },
 "nbformat": 4,
 "nbformat_minor": 5
}
