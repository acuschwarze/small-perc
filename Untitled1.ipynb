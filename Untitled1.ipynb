{
 "cells": [
  {
   "cell_type": "code",
   "execution_count": 1,
   "id": "2857137e-48d7-44a2-b4c4-0381854b018b",
   "metadata": {
    "tags": []
   },
   "outputs": [],
   "source": [
    "import sys, pickle\n",
    "sys.path.insert(0, \"libs\")\n",
    "\n",
    "import os, pickle, csv # import packages for file I/O\n",
    "import time # package to help keep track of calculation time\n",
    "\n",
    "import numpy as np\n",
    "import networkx as nx\n",
    "import matplotlib.pyplot as plt\n",
    "import pandas as pd\n",
    "\n",
    "import scipy\n",
    "import scipy.stats as sst\n",
    "from scipy.special import comb\n",
    "from scipy.integrate import simpson\n",
    "from scipy.signal import argrelextrema\n",
    "from random import choice\n",
    "\n",
    "from libs.utils import *\n",
    "from libs.finiteTheory import *\n",
    "from visualizations import *\n",
    "from libs.utils import *\n",
    "from robustnessSimulations import *\n",
    "from performanceMeasures import *\n",
    "from infiniteTheory import *\n",
    "from finiteTheory import *"
   ]
  },
  {
   "cell_type": "code",
   "execution_count": 3,
   "id": "3de37ec0-a340-426f-9f49-307be6ac62d8",
   "metadata": {
    "tags": []
   },
   "outputs": [
    {
     "name": "stdout",
     "output_type": "stream",
     "text": [
      "EEO output -7.37513e-39\n"
     ]
    },
    {
     "data": {
      "text/plain": [
       "-7.37513e-39"
      ]
     },
     "execution_count": 3,
     "metadata": {},
     "output_type": "execute_result"
    }
   ],
   "source": [
    "calculate_P_mult(0.087,2,62)"
   ]
  },
  {
   "cell_type": "code",
   "execution_count": null,
   "id": "d10cf6b1-1272-4bf4-84bd-fbd817f83f63",
   "metadata": {},
   "outputs": [],
   "source": []
  }
 ],
 "metadata": {
  "kernelspec": {
   "display_name": "Python 3 (ipykernel)",
   "language": "python",
   "name": "python3"
  },
  "language_info": {
   "codemirror_mode": {
    "name": "ipython",
    "version": 3
   },
   "file_extension": ".py",
   "mimetype": "text/x-python",
   "name": "python",
   "nbconvert_exporter": "python",
   "pygments_lexer": "ipython3",
   "version": "3.11.9"
  }
 },
 "nbformat": 4,
 "nbformat_minor": 5
}
